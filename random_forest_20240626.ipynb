{
 "cells": [
  {
   "cell_type": "code",
   "id": "initial_id",
   "metadata": {
    "collapsed": true,
    "ExecuteTime": {
     "end_time": "2024-06-26T15:47:49.772397Z",
     "start_time": "2024-06-26T15:47:49.650904Z"
    }
   },
   "source": [
    "import glob\n",
    "import numpy as np\n",
    "import pandas as pd\n",
    "\n",
    "def aggregate_csv_files(directory_path):\n",
    "    all_files = glob.glob(f\"{directory_path}/*.csv\")\n",
    "    df_list = []\n",
    "\n",
    "    for file in all_files:\n",
    "        df = pd.read_csv(file)\n",
    "        df_list.append(df)\n",
    "\n",
    "    # Concatenate all DataFrames\n",
    "    combined_df = pd.concat(df_list, ignore_index=True)\n",
    "\n",
    "    # Drop rows with NaN or infinite values\n",
    "    combined_df.replace([np.inf, -np.inf], np.nan, inplace=True)\n",
    "    combined_df.dropna(inplace=True)\n",
    "\n",
    "    # Select the necessary columns\n",
    "    aggregated_df = combined_df[['date', '1wk_WIS', '1_week_roc', \n",
    "                                 'is_wis_above_avg', '1st_deriv_stencil', \n",
    "                                 'week_of_year', 'moving_avg_WIS', \n",
    "                                 'lagged_1wk_WIS']]\n",
    "\n",
    "    return aggregated_df\n",
    "\n",
    "directory_path = './hosp_roc'\n",
    "aggregated_data = aggregate_csv_files(directory_path)\n",
    "aggregated_data"
   ],
   "outputs": [
    {
     "data": {
      "text/plain": [
       "            date  1wk_WIS  1_week_roc  is_wis_above_avg  1st_deriv_stencil  \\\n",
       "2     2023-10-28    19.51    0.320000                 0           7.333333   \n",
       "3     2023-11-04     6.51    0.181818                 0           4.166667   \n",
       "4     2023-11-11    45.84    0.205128                 0          27.750000   \n",
       "5     2023-11-18    11.54    0.851064                 0          16.416667   \n",
       "6     2023-11-25    37.36   -0.034483                 0          25.750000   \n",
       "...          ...      ...         ...               ...                ...   \n",
       "1243  2024-03-02     7.56   -0.173077                 0          -1.000000   \n",
       "1244  2024-03-09    13.41    0.209302                 0          14.166667   \n",
       "1245  2024-03-16     2.61    0.230769                 0          -1.750000   \n",
       "1246  2024-03-23     2.18   -0.218750                 0          -8.000000   \n",
       "1247  2024-03-30     3.87   -0.040000                 0          -2.000000   \n",
       "\n",
       "      week_of_year  moving_avg_WIS  lagged_1wk_WIS  \n",
       "2               43       13.273333           13.51  \n",
       "3               44       13.176667           19.51  \n",
       "4               45       23.953333            6.51  \n",
       "5               46       21.296667           45.84  \n",
       "6               47       31.580000           11.54  \n",
       "...            ...             ...             ...  \n",
       "1243             9        4.150000            1.44  \n",
       "1244            10        7.470000            7.56  \n",
       "1245            11        7.860000           13.41  \n",
       "1246            12        6.066667            2.61  \n",
       "1247            13        2.886667            2.18  \n",
       "\n",
       "[1118 rows x 8 columns]"
      ],
      "text/html": [
       "<div>\n",
       "<style scoped>\n",
       "    .dataframe tbody tr th:only-of-type {\n",
       "        vertical-align: middle;\n",
       "    }\n",
       "\n",
       "    .dataframe tbody tr th {\n",
       "        vertical-align: top;\n",
       "    }\n",
       "\n",
       "    .dataframe thead th {\n",
       "        text-align: right;\n",
       "    }\n",
       "</style>\n",
       "<table border=\"1\" class=\"dataframe\">\n",
       "  <thead>\n",
       "    <tr style=\"text-align: right;\">\n",
       "      <th></th>\n",
       "      <th>date</th>\n",
       "      <th>1wk_WIS</th>\n",
       "      <th>1_week_roc</th>\n",
       "      <th>is_wis_above_avg</th>\n",
       "      <th>1st_deriv_stencil</th>\n",
       "      <th>week_of_year</th>\n",
       "      <th>moving_avg_WIS</th>\n",
       "      <th>lagged_1wk_WIS</th>\n",
       "    </tr>\n",
       "  </thead>\n",
       "  <tbody>\n",
       "    <tr>\n",
       "      <th>2</th>\n",
       "      <td>2023-10-28</td>\n",
       "      <td>19.51</td>\n",
       "      <td>0.320000</td>\n",
       "      <td>0</td>\n",
       "      <td>7.333333</td>\n",
       "      <td>43</td>\n",
       "      <td>13.273333</td>\n",
       "      <td>13.51</td>\n",
       "    </tr>\n",
       "    <tr>\n",
       "      <th>3</th>\n",
       "      <td>2023-11-04</td>\n",
       "      <td>6.51</td>\n",
       "      <td>0.181818</td>\n",
       "      <td>0</td>\n",
       "      <td>4.166667</td>\n",
       "      <td>44</td>\n",
       "      <td>13.176667</td>\n",
       "      <td>19.51</td>\n",
       "    </tr>\n",
       "    <tr>\n",
       "      <th>4</th>\n",
       "      <td>2023-11-11</td>\n",
       "      <td>45.84</td>\n",
       "      <td>0.205128</td>\n",
       "      <td>0</td>\n",
       "      <td>27.750000</td>\n",
       "      <td>45</td>\n",
       "      <td>23.953333</td>\n",
       "      <td>6.51</td>\n",
       "    </tr>\n",
       "    <tr>\n",
       "      <th>5</th>\n",
       "      <td>2023-11-18</td>\n",
       "      <td>11.54</td>\n",
       "      <td>0.851064</td>\n",
       "      <td>0</td>\n",
       "      <td>16.416667</td>\n",
       "      <td>46</td>\n",
       "      <td>21.296667</td>\n",
       "      <td>45.84</td>\n",
       "    </tr>\n",
       "    <tr>\n",
       "      <th>6</th>\n",
       "      <td>2023-11-25</td>\n",
       "      <td>37.36</td>\n",
       "      <td>-0.034483</td>\n",
       "      <td>0</td>\n",
       "      <td>25.750000</td>\n",
       "      <td>47</td>\n",
       "      <td>31.580000</td>\n",
       "      <td>11.54</td>\n",
       "    </tr>\n",
       "    <tr>\n",
       "      <th>...</th>\n",
       "      <td>...</td>\n",
       "      <td>...</td>\n",
       "      <td>...</td>\n",
       "      <td>...</td>\n",
       "      <td>...</td>\n",
       "      <td>...</td>\n",
       "      <td>...</td>\n",
       "      <td>...</td>\n",
       "    </tr>\n",
       "    <tr>\n",
       "      <th>1243</th>\n",
       "      <td>2024-03-02</td>\n",
       "      <td>7.56</td>\n",
       "      <td>-0.173077</td>\n",
       "      <td>0</td>\n",
       "      <td>-1.000000</td>\n",
       "      <td>9</td>\n",
       "      <td>4.150000</td>\n",
       "      <td>1.44</td>\n",
       "    </tr>\n",
       "    <tr>\n",
       "      <th>1244</th>\n",
       "      <td>2024-03-09</td>\n",
       "      <td>13.41</td>\n",
       "      <td>0.209302</td>\n",
       "      <td>0</td>\n",
       "      <td>14.166667</td>\n",
       "      <td>10</td>\n",
       "      <td>7.470000</td>\n",
       "      <td>7.56</td>\n",
       "    </tr>\n",
       "    <tr>\n",
       "      <th>1245</th>\n",
       "      <td>2024-03-16</td>\n",
       "      <td>2.61</td>\n",
       "      <td>0.230769</td>\n",
       "      <td>0</td>\n",
       "      <td>-1.750000</td>\n",
       "      <td>11</td>\n",
       "      <td>7.860000</td>\n",
       "      <td>13.41</td>\n",
       "    </tr>\n",
       "    <tr>\n",
       "      <th>1246</th>\n",
       "      <td>2024-03-23</td>\n",
       "      <td>2.18</td>\n",
       "      <td>-0.218750</td>\n",
       "      <td>0</td>\n",
       "      <td>-8.000000</td>\n",
       "      <td>12</td>\n",
       "      <td>6.066667</td>\n",
       "      <td>2.61</td>\n",
       "    </tr>\n",
       "    <tr>\n",
       "      <th>1247</th>\n",
       "      <td>2024-03-30</td>\n",
       "      <td>3.87</td>\n",
       "      <td>-0.040000</td>\n",
       "      <td>0</td>\n",
       "      <td>-2.000000</td>\n",
       "      <td>13</td>\n",
       "      <td>2.886667</td>\n",
       "      <td>2.18</td>\n",
       "    </tr>\n",
       "  </tbody>\n",
       "</table>\n",
       "<p>1118 rows × 8 columns</p>\n",
       "</div>"
      ]
     },
     "execution_count": 4,
     "metadata": {},
     "output_type": "execute_result"
    }
   ],
   "execution_count": 4
  },
  {
   "metadata": {
    "ExecuteTime": {
     "end_time": "2024-06-26T15:47:22.652776Z",
     "start_time": "2024-06-26T15:47:22.547468Z"
    }
   },
   "cell_type": "code",
   "source": [
    "\"\"\"Prepare the data.\"\"\"\n",
    "\n",
    "from sklearn.model_selection import train_test_split\n",
    "from sklearn.metrics import classification_report, roc_auc_score\n",
    "\n",
    "df = aggregated_data\n",
    "df.dropna(inplace=True)\n",
    "\n",
    "features = ['1_week_roc', \n",
    "            '1st_deriv_stencil', \n",
    "            'week_of_year', \n",
    "            'moving_avg_WIS', \n",
    "            'lagged_1wk_WIS']\n",
    "X = df[features]\n",
    "y = df['is_wis_above_avg']\n",
    "\n",
    "# Train-test split\n",
    "X_train, X_test, y_train, y_test = train_test_split(X, y, test_size=0.2, random_state=42)"
   ],
   "id": "31f4ef73c2bd7938",
   "outputs": [],
   "execution_count": 2
  },
  {
   "metadata": {
    "ExecuteTime": {
     "end_time": "2024-06-26T16:35:25.834075Z",
     "start_time": "2024-06-26T16:35:25.504924Z"
    }
   },
   "cell_type": "code",
   "source": [
    "\"\"\"Train and evaluate the RF model.\"\"\"\n",
    "\n",
    "from sklearn.ensemble import RandomForestClassifier\n",
    "\n",
    "# Initialize Random Forest model\n",
    "rf_model = RandomForestClassifier(random_state=42)\n",
    "\n",
    "# Train the model\n",
    "rf_model.fit(X_train, y_train)\n",
    "\n",
    "# Evaluate the model\n",
    "y_pred_rf = rf_model.predict(X_test)\n",
    "print(classification_report(y_test, y_pred_rf))"
   ],
   "id": "8705f82578680c4b",
   "outputs": [
    {
     "name": "stdout",
     "output_type": "stream",
     "text": [
      "              precision    recall  f1-score   support\n",
      "\n",
      "           0       0.86      0.90      0.88       155\n",
      "           1       0.75      0.67      0.71        69\n",
      "\n",
      "    accuracy                           0.83       224\n",
      "   macro avg       0.81      0.78      0.79       224\n",
      "weighted avg       0.83      0.83      0.83       224\n",
      "\n"
     ]
    }
   ],
   "execution_count": 9
  },
  {
   "metadata": {
    "ExecuteTime": {
     "end_time": "2024-06-26T16:35:34.531823Z",
     "start_time": "2024-06-26T16:35:34.304801Z"
    }
   },
   "cell_type": "code",
   "source": [
    "import pandas as pd\n",
    "import matplotlib.pyplot as plt\n",
    "\n",
    "# Feature Importances\n",
    "importances = rf_model.feature_importances_\n",
    "feature_names = X_train.columns\n",
    "\n",
    "# Plot Feature Importances\n",
    "plt.figure(figsize=(10, 6))\n",
    "plt.barh(feature_names, importances, color='skyblue')\n",
    "plt.xlabel('Importance')\n",
    "plt.ylabel('Features')\n",
    "plt.title('Feature Importance')\n",
    "plt.show()\n"
   ],
   "id": "dfdb4cb387a2218e",
   "outputs": [
    {
     "data": {
      "text/plain": [
       "<Figure size 1000x600 with 1 Axes>"
      ],
      "image/png": "[encoded data removed]"
     },
     "metadata": {},
     "output_type": "display_data"
    }
   ],
   "execution_count": 10
  },
  {
   "metadata": {
    "ExecuteTime": {
     "end_time": "2024-06-26T16:35:37.143640Z",
     "start_time": "2024-06-26T16:35:36.951157Z"
    }
   },
   "cell_type": "code",
   "source": [
    "import matplotlib.pyplot as plt\n",
    "from sklearn.metrics import confusion_matrix, ConfusionMatrixDisplay\n",
    "\n",
    "# Predictions\n",
    "y_pred_rf = rf_model.predict(X_test)\n",
    "\n",
    "# Confusion Matrix\n",
    "cm = confusion_matrix(y_test, y_pred_rf)\n",
    "disp = ConfusionMatrixDisplay(confusion_matrix=cm, display_labels=rf_model.classes_)\n",
    "disp.plot(cmap=plt.cm.Blues)\n",
    "plt.title('Confusion Matrix')\n",
    "plt.show()\n"
   ],
   "id": "5544248d3ad852b",
   "outputs": [
    {
     "data": {
      "text/plain": [
       "<Figure size 640x480 with 2 Axes>"
      ],
      "image/png": "[encoded data removed]"
     },
     "metadata": {},
     "output_type": "display_data"
    }
   ],
   "execution_count": 11
  },
  {
   "metadata": {},
   "cell_type": "markdown",
   "source": [
    "## Feature Reduction/Elimination\n",
    "We can reduce the dimension of features, but we get reduced performance."
   ],
   "id": "8a3aa4d2cd3b771c"
  },
  {
   "metadata": {
    "ExecuteTime": {
     "end_time": "2024-06-26T16:35:43.921044Z",
     "start_time": "2024-06-26T16:35:43.664819Z"
    }
   },
   "cell_type": "code",
   "source": [
    "\"\"\"Recursive Feature Elimination\"\"\"\n",
    "\n",
    "from sklearn.feature_selection import RFE\n",
    "from sklearn.linear_model import LogisticRegression\n",
    "\n",
    "# Initialize logistic regression model for RFE\n",
    "model = LogisticRegression()\n",
    "\n",
    "# Initialize RFE with the logistic regression model\n",
    "rfe = RFE(estimator=model, n_features_to_select=3)\n",
    "\n",
    "# Fit RFE\n",
    "rfe = rfe.fit(X_train, y_train)\n",
    "\n",
    "# Get the selected features\n",
    "selected_features = X_train.columns[rfe.support_]\n",
    "print(\"Selected Features:\", selected_features)\n",
    "\n",
    "# Reduce the dataset to selected features\n",
    "X_train_rfe = X_train[selected_features]\n",
    "X_test_rfe = X_test[selected_features]\n",
    "\n",
    "# Train Random Forest model with reduced features\n",
    "rf_model_rfe = RandomForestClassifier(random_state=42)\n",
    "rf_model_rfe.fit(X_train_rfe, y_train)\n",
    "\n",
    "# Evaluate the reduced model\n",
    "y_pred_rfe = rf_model_rfe.predict(X_test_rfe)\n",
    "print(classification_report(y_test, y_pred_rfe))"
   ],
   "id": "4dab4d699c695298",
   "outputs": [
    {
     "name": "stdout",
     "output_type": "stream",
     "text": [
      "Selected Features: Index(['1_week_roc', 'week_of_year', 'moving_avg_WIS'], dtype='object')\n",
      "              precision    recall  f1-score   support\n",
      "\n",
      "           0       0.84      0.87      0.86       155\n",
      "           1       0.69      0.64      0.66        69\n",
      "\n",
      "    accuracy                           0.80       224\n",
      "   macro avg       0.77      0.75      0.76       224\n",
      "weighted avg       0.80      0.80      0.80       224\n",
      "\n"
     ]
    }
   ],
   "execution_count": 12
  }
 ],
 "metadata": {
  "kernelspec": {
   "display_name": "Python 3",
   "language": "python",
   "name": "python3"
  },
  "language_info": {
   "codemirror_mode": {
    "name": "ipython",
    "version": 2
   },
   "file_extension": ".py",
   "mimetype": "text/x-python",
   "name": "python",
   "nbconvert_exporter": "python",
   "pygments_lexer": "ipython2",
   "version": "2.7.6"
  }
 },
 "nbformat": 4,
 "nbformat_minor": 5
}

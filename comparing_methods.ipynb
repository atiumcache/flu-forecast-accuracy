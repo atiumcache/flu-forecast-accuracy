{
 "cells": [
  {
   "cell_type": "code",
   "execution_count": 4,
   "id": "initial_id",
   "metadata": {
    "collapsed": true
   },
   "outputs": [
    {
     "name": "stdout",
     "output_type": "stream",
     "text": [
      "File DNE: ./pf_accuracy_results/AK.csv\n",
      "File DNE: ./pf_accuracy_results/AL.csv\n",
      "File DNE: ./pf_accuracy_results/AR.csv\n",
      "File DNE: ./pf_accuracy_results/AZ.csv\n",
      "File DNE: ./pf_accuracy_results/CA.csv\n",
      "File DNE: ./pf_accuracy_results/CO.csv\n",
      "File DNE: ./pf_accuracy_results/CT.csv\n",
      "File DNE: ./pf_accuracy_results/DC.csv\n",
      "File DNE: ./pf_accuracy_results/DE.csv\n",
      "File DNE: ./pf_accuracy_results/FL.csv\n",
      "File DNE: ./pf_accuracy_results/GA.csv\n",
      "File DNE: ./pf_accuracy_results/HI.csv\n",
      "File DNE: ./pf_accuracy_results/IA.csv\n",
      "File DNE: ./pf_accuracy_results/ID.csv\n",
      "File DNE: ./pf_accuracy_results/IL.csv\n",
      "File DNE: ./pf_accuracy_results/IN.csv\n",
      "File DNE: ./pf_accuracy_results/KS.csv\n",
      "File DNE: ./pf_accuracy_results/KY.csv\n",
      "File DNE: ./pf_accuracy_results/LA.csv\n",
      "File DNE: ./pf_accuracy_results/MA.csv\n",
      "File DNE: ./pf_accuracy_results/MD.csv\n",
      "File DNE: ./pf_accuracy_results/ME.csv\n",
      "File DNE: ./pf_accuracy_results/MI.csv\n",
      "File DNE: ./pf_accuracy_results/MN.csv\n",
      "File DNE: ./pf_accuracy_results/MO.csv\n",
      "File DNE: ./pf_accuracy_results/MS.csv\n",
      "File DNE: ./pf_accuracy_results/MT.csv\n",
      "File DNE: ./pf_accuracy_results/NC.csv\n",
      "File DNE: ./pf_accuracy_results/ND.csv\n",
      "File DNE: ./pf_accuracy_results/NE.csv\n",
      "File DNE: ./pf_accuracy_results/NH.csv\n",
      "File DNE: ./pf_accuracy_results/NJ.csv\n",
      "File DNE: ./pf_accuracy_results/NM.csv\n",
      "File DNE: ./pf_accuracy_results/NV.csv\n",
      "File DNE: ./pf_accuracy_results/NY.csv\n",
      "File DNE: ./pf_accuracy_results/OH.csv\n",
      "File DNE: ./pf_accuracy_results/OK.csv\n",
      "File DNE: ./pf_accuracy_results/OR.csv\n",
      "File DNE: ./pf_accuracy_results/PA.csv\n",
      "File DNE: ./pf_accuracy_results/PR.csv\n",
      "File DNE: ./pf_accuracy_results/RI.csv\n",
      "File DNE: ./pf_accuracy_results/SC.csv\n",
      "File DNE: ./pf_accuracy_results/SD.csv\n",
      "File DNE: ./pf_accuracy_results/TN.csv\n",
      "File DNE: ./pf_accuracy_results/TX.csv\n",
      "File DNE: ./pf_accuracy_results/UT.csv\n",
      "File DNE: ./pf_accuracy_results/VA.csv\n",
      "File DNE: ./pf_accuracy_results/VT.csv\n",
      "File DNE: ./pf_accuracy_results/WA.csv\n",
      "File DNE: ./pf_accuracy_results/WI.csv\n",
      "File DNE: ./pf_accuracy_results/WV.csv\n",
      "File DNE: ./pf_accuracy_results/WY.csv\n"
     ]
    }
   ],
   "source": [
    "import os\n",
    "from mcmc_plotting import *\n",
    "\n",
    "# Define the paths to the directories\n",
    "mcmc_folder = './mcmc_accuracy_results/'\n",
    "pf_folder = './pf-accuracy-results/'\n",
    "\n",
    "# Ensure the plot output directory exists\n",
    "os.makedirs('./plots', exist_ok=True)\n",
    "\n",
    "# Loop through each file in the MCMC folder\n",
    "for mcmc_file in os.listdir(mcmc_folder):\n",
    "    if mcmc_file.endswith('.csv'):\n",
    "        mcmc_csv_path = os.path.join(mcmc_folder, mcmc_file)\n",
    "        pf_csv_path = os.path.join(pf_folder, mcmc_file)\n",
    "\n",
    "        # Check if the corresponding PF file exists\n",
    "        if os.path.exists(pf_csv_path):\n",
    "            print(\"File exists:\", pf_csv_path)\n",
    "            plot_state_comparison(mcmc_csv_path, pf_csv_path, save=False)"
   ]
  },
  {
   "cell_type": "code",
   "execution_count": null,
   "id": "d83c12c9",
   "metadata": {},
   "outputs": [],
   "source": []
  }
 ],
 "metadata": {
  "kernelspec": {
   "display_name": "Python 3",
   "language": "python",
   "name": "python3"
  },
  "language_info": {
   "codemirror_mode": {
    "name": "ipython",
    "version": 3
   },
   "file_extension": ".py",
   "mimetype": "text/x-python",
   "name": "python",
   "nbconvert_exporter": "python",
   "pygments_lexer": "ipython3",
   "version": "3.12.3"
  }
 },
 "nbformat": 4,
 "nbformat_minor": 5
}

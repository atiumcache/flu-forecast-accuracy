{
 "cells": [
  {
   "cell_type": "code",
   "id": "initial_id",
   "metadata": {
    "collapsed": true,
    "ExecuteTime": {
     "end_time": "2024-07-01T19:30:13.281022Z",
     "start_time": "2024-07-01T19:30:13.271802Z"
    }
   },
   "source": [
    "import os\n",
    "\n",
    "import holidays\n",
    "import pandas as pd\n",
    "from datetime import datetime\n",
    "\n",
    "us_holidays = holidays.country_holidays('US', years=[2023])  \n",
    "\n",
    "# Get the week numbers for each holiday\n",
    "holiday_weeks = []\n",
    "for date in us_holidays:\n",
    "    week_number = datetime.strptime(str(date), \"%Y-%m-%d\").isocalendar()[1]\n",
    "    holiday_weeks.append(week_number)\n",
    "    \n",
    "holiday_prev_weeks = [1 if week == 52 else week + 1 for week in holiday_weeks]\n",
    "\n",
    "holiday_prev_weeks = set(holiday_prev_weeks)\n",
    "print(holiday_prev_weeks)"
   ],
   "outputs": [
    {
     "name": "stdout",
     "output_type": "stream",
     "text": [
      "{1, 2, 4, 37, 9, 42, 46, 48, 23, 26, 28}\n"
     ]
    }
   ],
   "execution_count": 13
  },
  {
   "metadata": {
    "ExecuteTime": {
     "end_time": "2024-07-01T19:30:25.356093Z",
     "start_time": "2024-07-01T19:30:25.198656Z"
    }
   },
   "cell_type": "code",
   "source": [
    "import glob\n",
    "import numpy as np\n",
    "\n",
    "def aggregate_csv_files(directory_path):\n",
    "    all_files = glob.glob(f\"{directory_path}/*.csv\")\n",
    "    df_list = []\n",
    "\n",
    "    for file in all_files:\n",
    "        df = pd.read_csv(file)\n",
    "        file_name = os.path.basename(file)\n",
    "        loc_code = file_name.split('.')[0]  # Split the string at '.' and take the first part\n",
    "        df['loc_code'] = loc_code\n",
    "        df_list.append(df)\n",
    "\n",
    "    # Concatenate all DataFrames\n",
    "    combined_df = pd.concat(df_list, ignore_index=True)\n",
    "\n",
    "    # Drop rows with NaN or infinite values\n",
    "    combined_df.replace([np.inf, -np.inf], np.nan, inplace=True)\n",
    "    combined_df.dropna(inplace=True)\n",
    "\n",
    "    # Select the necessary columns\n",
    "    aggregated_df = combined_df[['date', '1wk_WIS', '1_week_roc', \n",
    "                                 'is_wis_above_avg', '1st_deriv_stencil', \n",
    "                                 'week_of_year', 'moving_avg_WIS', \n",
    "                                 'lagged_1wk_WIS', 'loc_code']]\n",
    "\n",
    "    return aggregated_df\n",
    "\n",
    "directory_path = './hosp_roc'\n",
    "aggregated_data = aggregate_csv_files(directory_path)\n",
    "aggregated_data.head()"
   ],
   "id": "adaaf98c4492031b",
   "outputs": [
    {
     "data": {
      "text/plain": [
       "         date  1wk_WIS  1_week_roc  is_wis_above_avg  1st_deriv_stencil  \\\n",
       "2  2023-10-28    19.51    0.320000                 0           7.333333   \n",
       "3  2023-11-04     6.51    0.181818                 0           4.166667   \n",
       "4  2023-11-11    45.84    0.205128                 0          27.750000   \n",
       "5  2023-11-18    11.54    0.851064                 0          16.416667   \n",
       "6  2023-11-25    37.36   -0.034483                 0          25.750000   \n",
       "\n",
       "   week_of_year  moving_avg_WIS  lagged_1wk_WIS loc_code  \n",
       "2            43       13.273333           13.51       18  \n",
       "3            44       13.176667           19.51       18  \n",
       "4            45       23.953333            6.51       18  \n",
       "5            46       21.296667           45.84       18  \n",
       "6            47       31.580000           11.54       18  "
      ],
      "text/html": [
       "<div>\n",
       "<style scoped>\n",
       "    .dataframe tbody tr th:only-of-type {\n",
       "        vertical-align: middle;\n",
       "    }\n",
       "\n",
       "    .dataframe tbody tr th {\n",
       "        vertical-align: top;\n",
       "    }\n",
       "\n",
       "    .dataframe thead th {\n",
       "        text-align: right;\n",
       "    }\n",
       "</style>\n",
       "<table border=\"1\" class=\"dataframe\">\n",
       "  <thead>\n",
       "    <tr style=\"text-align: right;\">\n",
       "      <th></th>\n",
       "      <th>date</th>\n",
       "      <th>1wk_WIS</th>\n",
       "      <th>1_week_roc</th>\n",
       "      <th>is_wis_above_avg</th>\n",
       "      <th>1st_deriv_stencil</th>\n",
       "      <th>week_of_year</th>\n",
       "      <th>moving_avg_WIS</th>\n",
       "      <th>lagged_1wk_WIS</th>\n",
       "      <th>loc_code</th>\n",
       "    </tr>\n",
       "  </thead>\n",
       "  <tbody>\n",
       "    <tr>\n",
       "      <th>2</th>\n",
       "      <td>2023-10-28</td>\n",
       "      <td>19.51</td>\n",
       "      <td>0.320000</td>\n",
       "      <td>0</td>\n",
       "      <td>7.333333</td>\n",
       "      <td>43</td>\n",
       "      <td>13.273333</td>\n",
       "      <td>13.51</td>\n",
       "      <td>18</td>\n",
       "    </tr>\n",
       "    <tr>\n",
       "      <th>3</th>\n",
       "      <td>2023-11-04</td>\n",
       "      <td>6.51</td>\n",
       "      <td>0.181818</td>\n",
       "      <td>0</td>\n",
       "      <td>4.166667</td>\n",
       "      <td>44</td>\n",
       "      <td>13.176667</td>\n",
       "      <td>19.51</td>\n",
       "      <td>18</td>\n",
       "    </tr>\n",
       "    <tr>\n",
       "      <th>4</th>\n",
       "      <td>2023-11-11</td>\n",
       "      <td>45.84</td>\n",
       "      <td>0.205128</td>\n",
       "      <td>0</td>\n",
       "      <td>27.750000</td>\n",
       "      <td>45</td>\n",
       "      <td>23.953333</td>\n",
       "      <td>6.51</td>\n",
       "      <td>18</td>\n",
       "    </tr>\n",
       "    <tr>\n",
       "      <th>5</th>\n",
       "      <td>2023-11-18</td>\n",
       "      <td>11.54</td>\n",
       "      <td>0.851064</td>\n",
       "      <td>0</td>\n",
       "      <td>16.416667</td>\n",
       "      <td>46</td>\n",
       "      <td>21.296667</td>\n",
       "      <td>45.84</td>\n",
       "      <td>18</td>\n",
       "    </tr>\n",
       "    <tr>\n",
       "      <th>6</th>\n",
       "      <td>2023-11-25</td>\n",
       "      <td>37.36</td>\n",
       "      <td>-0.034483</td>\n",
       "      <td>0</td>\n",
       "      <td>25.750000</td>\n",
       "      <td>47</td>\n",
       "      <td>31.580000</td>\n",
       "      <td>11.54</td>\n",
       "      <td>18</td>\n",
       "    </tr>\n",
       "  </tbody>\n",
       "</table>\n",
       "</div>"
      ]
     },
     "execution_count": 15,
     "metadata": {},
     "output_type": "execute_result"
    }
   ],
   "execution_count": 15
  },
  {
   "metadata": {
    "ExecuteTime": {
     "end_time": "2024-07-01T19:31:45.593516Z",
     "start_time": "2024-07-01T19:31:45.569378Z"
    }
   },
   "cell_type": "code",
   "source": [
    "\"\"\"Add holiday data --- 1 indicates a holiday occurred in the previous week.\"\"\"\n",
    "df = aggregated_data.copy()\n",
    "\n",
    "df['holiday_last_week'] = df['week_of_year'].apply(lambda x: 1 if x in \n",
    "                                                              holiday_prev_weeks\n",
    "else 0)\n",
    "\n",
    "df.to_csv('./datasets/random_forest_features_20240701.csv', index=False)"
   ],
   "id": "d9e03be888995115",
   "outputs": [],
   "execution_count": 18
  },
  {
   "metadata": {
    "ExecuteTime": {
     "end_time": "2024-06-27T20:43:46.123843Z",
     "start_time": "2024-06-27T20:43:46.115690Z"
    }
   },
   "cell_type": "code",
   "source": [
    "\"\"\"Prepare the data.\"\"\"\n",
    "\n",
    "from sklearn.model_selection import train_test_split\n",
    "from sklearn.metrics import classification_report, roc_auc_score\n",
    "\n",
    "df = aggregated_data\n",
    "df.dropna(inplace=True)\n",
    "\n",
    "features = ['1_week_roc', \n",
    "            '1st_deriv_stencil', \n",
    "            'week_of_year', \n",
    "            'moving_avg_WIS', \n",
    "            'lagged_1wk_WIS',\n",
    "            'holiday_last_week']\n",
    "X = df[features]\n",
    "y = df['is_wis_above_avg']\n",
    "\n",
    "# Train-test split\n",
    "X_train, X_test, y_train, y_test = train_test_split(X, y, test_size=0.2, random_state=42)"
   ],
   "id": "816dc986704dd36c",
   "outputs": [],
   "execution_count": 31
  },
  {
   "metadata": {
    "ExecuteTime": {
     "end_time": "2024-06-27T20:43:48.191861Z",
     "start_time": "2024-06-27T20:43:47.934351Z"
    }
   },
   "cell_type": "code",
   "source": [
    "\"\"\"Train and evaluate the RF model.\"\"\"\n",
    "\n",
    "from sklearn.ensemble import RandomForestClassifier\n",
    "\n",
    "# Initialize Random Forest model\n",
    "rf_model = RandomForestClassifier(random_state=42)\n",
    "\n",
    "# Train the model\n",
    "rf_model.fit(X_train, y_train)\n",
    "\n",
    "# Evaluate the model\n",
    "y_pred_rf = rf_model.predict(X_test)\n",
    "print(classification_report(y_test, y_pred_rf))"
   ],
   "id": "b6c6347ee841396c",
   "outputs": [
    {
     "name": "stdout",
     "output_type": "stream",
     "text": [
      "              precision    recall  f1-score   support\n",
      "\n",
      "           0       0.87      0.90      0.89       155\n",
      "           1       0.76      0.70      0.73        69\n",
      "\n",
      "    accuracy                           0.84       224\n",
      "   macro avg       0.82      0.80      0.81       224\n",
      "weighted avg       0.84      0.84      0.84       224\n",
      "\n"
     ]
    }
   ],
   "execution_count": 32
  },
  {
   "metadata": {
    "ExecuteTime": {
     "end_time": "2024-06-27T20:44:02.861715Z",
     "start_time": "2024-06-27T20:44:02.328053Z"
    }
   },
   "cell_type": "code",
   "source": [
    "import pandas as pd\n",
    "import matplotlib.pyplot as plt\n",
    "\n",
    "# Feature Importances\n",
    "importances = rf_model.feature_importances_\n",
    "feature_names = X_train.columns\n",
    "\n",
    "# Plot Feature Importances\n",
    "plt.figure(figsize=(10, 6), dpi=200)\n",
    "plt.barh(feature_names, importances, color='skyblue')\n",
    "plt.xlabel('Importance')\n",
    "plt.ylabel('Features')\n",
    "plt.title('Feature Importance')\n",
    "plt.show()"
   ],
   "id": "38059bd4e20c2528",
   "outputs": [
    {
     "data": {
      "text/plain": [
       "<Figure size 2000x1200 with 1 Axes>"
      ],
      "image/png": "[encoded data removed]"
     },
     "metadata": {},
     "output_type": "display_data"
    }
   ],
   "execution_count": 33
  },
  {
   "metadata": {
    "ExecuteTime": {
     "end_time": "2024-06-27T20:44:13.573657Z",
     "start_time": "2024-06-27T20:44:13.289242Z"
    }
   },
   "cell_type": "code",
   "source": [
    "\"\"\"Recursive Feature Elimination -- 5 Features\"\"\"\n",
    "\n",
    "from sklearn.feature_selection import RFE\n",
    "from sklearn.linear_model import LogisticRegression\n",
    "\n",
    "# Initialize logistic regression model for RFE\n",
    "model = LogisticRegression()\n",
    "\n",
    "# Initialize RFE with the logistic regression model\n",
    "rfe = RFE(estimator=model, n_features_to_select=5)\n",
    "\n",
    "# Fit RFE\n",
    "rfe = rfe.fit(X_train, y_train)\n",
    "\n",
    "# Get the selected features\n",
    "selected_features = X_train.columns[rfe.support_]\n",
    "print(\"Selected Features:\", selected_features)\n",
    "\n",
    "# Reduce the dataset to selected features\n",
    "X_train_rfe = X_train[selected_features]\n",
    "X_test_rfe = X_test[selected_features]\n",
    "\n",
    "# Train Random Forest model with reduced features\n",
    "rf_model_rfe = RandomForestClassifier(random_state=42)\n",
    "rf_model_rfe.fit(X_train_rfe, y_train)\n",
    "\n",
    "# Evaluate the reduced model\n",
    "y_pred_rfe = rf_model_rfe.predict(X_test_rfe)\n",
    "print(classification_report(y_test, y_pred_rfe))"
   ],
   "id": "a68904c9f8a953de",
   "outputs": [
    {
     "name": "stdout",
     "output_type": "stream",
     "text": [
      "Selected Features: Index(['1_week_roc', 'week_of_year', 'moving_avg_WIS', 'lagged_1wk_WIS',\n",
      "       'holiday_last_week'],\n",
      "      dtype='object')\n",
      "              precision    recall  f1-score   support\n",
      "\n",
      "           0       0.87      0.90      0.89       155\n",
      "           1       0.75      0.71      0.73        69\n",
      "\n",
      "    accuracy                           0.84       224\n",
      "   macro avg       0.81      0.80      0.81       224\n",
      "weighted avg       0.84      0.84      0.84       224\n",
      "\n"
     ]
    }
   ],
   "execution_count": 34
  },
  {
   "metadata": {
    "ExecuteTime": {
     "end_time": "2024-06-27T20:44:17.900722Z",
     "start_time": "2024-06-27T20:44:17.565214Z"
    }
   },
   "cell_type": "code",
   "source": [
    "\"\"\"Recursive Feature Elimination -- 4 Features\"\"\"\n",
    "\n",
    "from sklearn.feature_selection import RFE\n",
    "from sklearn.linear_model import LogisticRegression\n",
    "\n",
    "# Initialize logistic regression model for RFE\n",
    "model = LogisticRegression()\n",
    "\n",
    "# Initialize RFE with the logistic regression model\n",
    "rfe = RFE(estimator=model, n_features_to_select=4)\n",
    "\n",
    "# Fit RFE\n",
    "rfe = rfe.fit(X_train, y_train)\n",
    "\n",
    "# Get the selected features\n",
    "selected_features = X_train.columns[rfe.support_]\n",
    "print(\"Selected Features:\", selected_features)\n",
    "\n",
    "# Reduce the dataset to selected features\n",
    "X_train_rfe = X_train[selected_features]\n",
    "X_test_rfe = X_test[selected_features]\n",
    "\n",
    "# Train Random Forest model with reduced features\n",
    "rf_model_rfe = RandomForestClassifier(random_state=42)\n",
    "rf_model_rfe.fit(X_train_rfe, y_train)\n",
    "\n",
    "# Evaluate the reduced model\n",
    "y_pred_rfe = rf_model_rfe.predict(X_test_rfe)\n",
    "print(classification_report(y_test, y_pred_rfe))"
   ],
   "id": "554212f90a198ef9",
   "outputs": [
    {
     "name": "stdout",
     "output_type": "stream",
     "text": [
      "Selected Features: Index(['1_week_roc', 'moving_avg_WIS', 'lagged_1wk_WIS', 'holiday_last_week'], dtype='object')\n",
      "              precision    recall  f1-score   support\n",
      "\n",
      "           0       0.83      0.85      0.84       155\n",
      "           1       0.64      0.62      0.63        69\n",
      "\n",
      "    accuracy                           0.78       224\n",
      "   macro avg       0.74      0.73      0.74       224\n",
      "weighted avg       0.78      0.78      0.78       224\n",
      "\n"
     ]
    }
   ],
   "execution_count": 35
  },
  {
   "metadata": {},
   "cell_type": "markdown",
   "source": [
    "## Changing Features\n",
    "We are seeing good results (accuracy = 0.84 vs. accuracy = 0.85) after \n",
    "eliminating the stencil feature. Let's incorporate another non-ROC feature. \n",
    "State-level data? Temperature? Humidity? Movement?  "
   ],
   "id": "6f60c4dd23773ead"
  },
  {
   "metadata": {},
   "cell_type": "code",
   "outputs": [],
   "execution_count": null,
   "source": "",
   "id": "4f7d40732bccc2e5"
  }
 ],
 "metadata": {
  "kernelspec": {
   "display_name": "Python 3",
   "language": "python",
   "name": "python3"
  },
  "language_info": {
   "codemirror_mode": {
    "name": "ipython",
    "version": 2
   },
   "file_extension": ".py",
   "mimetype": "text/x-python",
   "name": "python",
   "nbconvert_exporter": "python",
   "pygments_lexer": "ipython2",
   "version": "2.7.6"
  }
 },
 "nbformat": 4,
 "nbformat_minor": 5
}

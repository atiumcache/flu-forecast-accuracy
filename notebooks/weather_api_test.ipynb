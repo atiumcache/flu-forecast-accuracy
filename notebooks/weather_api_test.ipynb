{
 "cells": [
  {
   "metadata": {
    "ExecuteTime": {
     "end_time": "2024-07-08T17:16:05.249530Z",
     "start_time": "2024-07-08T17:16:04.386485Z"
    }
   },
   "cell_type": "code",
   "source": [
    "import utilities.weather_api as weather\n",
    "\n",
    "coordinates = weather.get_lat_long_from_loc_code('4')\n",
    "\n",
    "print(coordinates)\n",
    "\n",
    "weather.get_single_day_mean_temp(coordinates[0], coordinates[1], '1996-10-28')"
   ],
   "id": "8ef80c6bad5f2990",
   "outputs": [
    {
     "name": "stdout",
     "output_type": "stream",
     "text": [
      "(33.4484, -112.074)\n",
      "Coordinates 33.42706298828125°N -112.02719116210938°E\n",
      "Elevation 333.0 m asl\n",
      "Timezone None None\n",
      "Timezone difference to GMT+0 0 s\n"
     ]
    },
    {
     "data": {
      "text/plain": [
       "13.778087"
      ]
     },
     "execution_count": 1,
     "metadata": {},
     "output_type": "execute_result"
    }
   ],
   "execution_count": 1
  },
  {
   "metadata": {},
   "cell_type": "markdown",
   "source": "SARIMA? https://otexts.com/fpp3/seasonal-arima.html",
   "id": "c6f900edca768ee0"
  },
  {
   "metadata": {
    "ExecuteTime": {
     "end_time": "2024-07-08T17:16:05.261229Z",
     "start_time": "2024-07-08T17:16:05.251624Z"
    }
   },
   "cell_type": "code",
   "source": "weather.get_weekly_forecast_avg_temp(coordinates[0], coordinates[1], '2023-10-28')",
   "id": "8bcd14df7195081e",
   "outputs": [
    {
     "data": {
      "text/plain": [
       "13.183001"
      ]
     },
     "execution_count": 2,
     "metadata": {},
     "output_type": "execute_result"
    }
   ],
   "execution_count": 2
  },
  {
   "metadata": {
    "ExecuteTime": {
     "end_time": "2024-07-08T17:16:05.264849Z",
     "start_time": "2024-07-08T17:16:05.262643Z"
    }
   },
   "cell_type": "code",
   "source": "",
   "id": "882fc42b267fa93f",
   "outputs": [],
   "execution_count": 2
  }
 ],
 "metadata": {
  "kernelspec": {
   "display_name": "Python 3",
   "language": "python",
   "name": "python3"
  },
  "language_info": {
   "codemirror_mode": {
    "name": "ipython",
    "version": 2
   },
   "file_extension": ".py",
   "mimetype": "text/x-python",
   "name": "python",
   "nbconvert_exporter": "python",
   "pygments_lexer": "ipython2",
   "version": "2.7.6"
  }
 },
 "nbformat": 4,
 "nbformat_minor": 5
}

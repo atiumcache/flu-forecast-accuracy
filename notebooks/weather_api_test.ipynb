{
 "cells": [
  {
   "metadata": {
    "ExecuteTime": {
     "end_time": "2024-07-30T15:15:02.845356Z",
     "start_time": "2024-07-30T15:15:02.090168Z"
    }
   },
   "cell_type": "code",
   "source": [
    "import utilities.weather_api as weather\n",
    "\n",
    "coordinates = weather.get_lat_long_from_loc_code('4')\n",
    "\n",
    "print(coordinates)\n",
    "\n",
    "weather.get_single_day_mean_temp(coordinates[0], coordinates[1], '1996-10-28')"
   ],
   "id": "8ef80c6bad5f2990",
   "outputs": [
    {
     "name": "stdout",
     "output_type": "stream",
     "text": [
      "(33.4484, -112.074)\n"
     ]
    },
    {
     "data": {
      "text/plain": [
       "13.778087"
      ]
     },
     "execution_count": 1,
     "metadata": {},
     "output_type": "execute_result"
    }
   ],
   "execution_count": 1
  },
  {
   "metadata": {},
   "cell_type": "markdown",
   "source": "SARIMA? https://otexts.com/fpp3/seasonal-arima.html",
   "id": "c6f900edca768ee0"
  },
  {
   "metadata": {
    "ExecuteTime": {
     "end_time": "2024-07-30T15:15:02.862810Z",
     "start_time": "2024-07-30T15:15:02.848089Z"
    }
   },
   "cell_type": "code",
   "source": "weather.get_weekly_forecast_avg_temp(coordinates[0], coordinates[1], '2023-10-28')",
   "id": "8bcd14df7195081e",
   "outputs": [
    {
     "data": {
      "text/plain": [
       "13.183001"
      ]
     },
     "execution_count": 2,
     "metadata": {},
     "output_type": "execute_result"
    }
   ],
   "execution_count": 2
  },
  {
   "metadata": {
    "ExecuteTime": {
     "end_time": "2024-07-30T15:15:55.684659Z",
     "start_time": "2024-07-30T15:15:02.864804Z"
    }
   },
   "cell_type": "code",
   "source": [
    "import pandas as pd\n",
    "from datetime import datetime, timedelta\n",
    "\n",
    "start_date = datetime(2023, 8, 10)\n",
    "end_date = start_date + timedelta(days=79)\n",
    "date_range = pd.date_range(start_date, end_date)\n",
    "\n",
    "df = pd.DataFrame(date_range, columns=['date'])\n",
    "\n",
    "def get_temperature(date):\n",
    "    return weather.get_single_day_mean_temp(coordinates[0], coordinates[1], \n",
    "                                            date.strftime('%Y-%m-%d'))\n",
    "def get_precip(date):\n",
    "    return weather.get_single_day_precip_hours(coordinates[0], coordinates[1], date.strftime('%Y-%m-%d'))\n",
    "\n",
    "def get_max_rel_humidity(date):\n",
    "    return weather.get_max_rel_humidity(coordinates[0], coordinates[1], date.strftime('%Y-%m-%d'))\n",
    "\n",
    "df['mean_temp'] = df['date'].apply(get_temperature)\n",
    "df['precip_hours'] = df['date'].apply(get_precip)\n",
    "df['max_rel_humidity'] = df['date'].apply(get_max_rel_humidity)\n",
    "\n",
    "print(df)"
   ],
   "id": "882fc42b267fa93f",
   "outputs": [
    {
     "name": "stdout",
     "output_type": "stream",
     "text": [
      "         date  mean_temp  precip_hours  max_rel_humidity\n",
      "0  2023-08-10  35.480247           0.0         58.343990\n",
      "1  2023-08-11  35.686504           0.0         41.027596\n",
      "2  2023-08-12  34.296917           0.0         48.472122\n",
      "3  2023-08-13  35.290665           0.0         39.194641\n",
      "4  2023-08-14  35.201084           0.0         34.023445\n",
      "..        ...        ...           ...               ...\n",
      "75 2023-10-24  23.776079           0.0         53.960831\n",
      "76 2023-10-25  22.559412           0.0         60.130966\n",
      "77 2023-10-26  23.484415           0.0         71.569344\n",
      "78 2023-10-27  22.742750           0.0         68.598061\n",
      "79 2023-10-28  23.749002           0.0         52.024117\n",
      "\n",
      "[80 rows x 4 columns]\n"
     ]
    }
   ],
   "execution_count": 3
  },
  {
   "metadata": {
    "ExecuteTime": {
     "end_time": "2024-07-30T15:15:55.707283Z",
     "start_time": "2024-07-30T15:15:55.688870Z"
    }
   },
   "cell_type": "code",
   "source": "df",
   "id": "9e239ec4ddb5534",
   "outputs": [
    {
     "data": {
      "text/plain": [
       "         date  mean_temp  precip_hours  max_rel_humidity\n",
       "0  2023-08-10  35.480247           0.0         58.343990\n",
       "1  2023-08-11  35.686504           0.0         41.027596\n",
       "2  2023-08-12  34.296917           0.0         48.472122\n",
       "3  2023-08-13  35.290665           0.0         39.194641\n",
       "4  2023-08-14  35.201084           0.0         34.023445\n",
       "..        ...        ...           ...               ...\n",
       "75 2023-10-24  23.776079           0.0         53.960831\n",
       "76 2023-10-25  22.559412           0.0         60.130966\n",
       "77 2023-10-26  23.484415           0.0         71.569344\n",
       "78 2023-10-27  22.742750           0.0         68.598061\n",
       "79 2023-10-28  23.749002           0.0         52.024117\n",
       "\n",
       "[80 rows x 4 columns]"
      ],
      "text/html": [
       "<div>\n",
       "<style scoped>\n",
       "    .dataframe tbody tr th:only-of-type {\n",
       "        vertical-align: middle;\n",
       "    }\n",
       "\n",
       "    .dataframe tbody tr th {\n",
       "        vertical-align: top;\n",
       "    }\n",
       "\n",
       "    .dataframe thead th {\n",
       "        text-align: right;\n",
       "    }\n",
       "</style>\n",
       "<table border=\"1\" class=\"dataframe\">\n",
       "  <thead>\n",
       "    <tr style=\"text-align: right;\">\n",
       "      <th></th>\n",
       "      <th>date</th>\n",
       "      <th>mean_temp</th>\n",
       "      <th>precip_hours</th>\n",
       "      <th>max_rel_humidity</th>\n",
       "    </tr>\n",
       "  </thead>\n",
       "  <tbody>\n",
       "    <tr>\n",
       "      <th>0</th>\n",
       "      <td>2023-08-10</td>\n",
       "      <td>35.480247</td>\n",
       "      <td>0.0</td>\n",
       "      <td>58.343990</td>\n",
       "    </tr>\n",
       "    <tr>\n",
       "      <th>1</th>\n",
       "      <td>2023-08-11</td>\n",
       "      <td>35.686504</td>\n",
       "      <td>0.0</td>\n",
       "      <td>41.027596</td>\n",
       "    </tr>\n",
       "    <tr>\n",
       "      <th>2</th>\n",
       "      <td>2023-08-12</td>\n",
       "      <td>34.296917</td>\n",
       "      <td>0.0</td>\n",
       "      <td>48.472122</td>\n",
       "    </tr>\n",
       "    <tr>\n",
       "      <th>3</th>\n",
       "      <td>2023-08-13</td>\n",
       "      <td>35.290665</td>\n",
       "      <td>0.0</td>\n",
       "      <td>39.194641</td>\n",
       "    </tr>\n",
       "    <tr>\n",
       "      <th>4</th>\n",
       "      <td>2023-08-14</td>\n",
       "      <td>35.201084</td>\n",
       "      <td>0.0</td>\n",
       "      <td>34.023445</td>\n",
       "    </tr>\n",
       "    <tr>\n",
       "      <th>...</th>\n",
       "      <td>...</td>\n",
       "      <td>...</td>\n",
       "      <td>...</td>\n",
       "      <td>...</td>\n",
       "    </tr>\n",
       "    <tr>\n",
       "      <th>75</th>\n",
       "      <td>2023-10-24</td>\n",
       "      <td>23.776079</td>\n",
       "      <td>0.0</td>\n",
       "      <td>53.960831</td>\n",
       "    </tr>\n",
       "    <tr>\n",
       "      <th>76</th>\n",
       "      <td>2023-10-25</td>\n",
       "      <td>22.559412</td>\n",
       "      <td>0.0</td>\n",
       "      <td>60.130966</td>\n",
       "    </tr>\n",
       "    <tr>\n",
       "      <th>77</th>\n",
       "      <td>2023-10-26</td>\n",
       "      <td>23.484415</td>\n",
       "      <td>0.0</td>\n",
       "      <td>71.569344</td>\n",
       "    </tr>\n",
       "    <tr>\n",
       "      <th>78</th>\n",
       "      <td>2023-10-27</td>\n",
       "      <td>22.742750</td>\n",
       "      <td>0.0</td>\n",
       "      <td>68.598061</td>\n",
       "    </tr>\n",
       "    <tr>\n",
       "      <th>79</th>\n",
       "      <td>2023-10-28</td>\n",
       "      <td>23.749002</td>\n",
       "      <td>0.0</td>\n",
       "      <td>52.024117</td>\n",
       "    </tr>\n",
       "  </tbody>\n",
       "</table>\n",
       "<p>80 rows × 4 columns</p>\n",
       "</div>"
      ]
     },
     "execution_count": 4,
     "metadata": {},
     "output_type": "execute_result"
    }
   ],
   "execution_count": 4
  },
  {
   "metadata": {
    "ExecuteTime": {
     "end_time": "2024-07-30T15:18:38.389948Z",
     "start_time": "2024-07-30T15:18:38.383904Z"
    }
   },
   "cell_type": "code",
   "source": "df.to_csv('../weather_data/arizona_weather_test.csv')",
   "id": "d2d0b7bf94ffc84",
   "outputs": [],
   "execution_count": 6
  },
  {
   "metadata": {},
   "cell_type": "code",
   "outputs": [],
   "execution_count": null,
   "source": "",
   "id": "9a2d585704b6b66c"
  }
 ],
 "metadata": {
  "kernelspec": {
   "display_name": "Python 3",
   "language": "python",
   "name": "python3"
  },
  "language_info": {
   "codemirror_mode": {
    "name": "ipython",
    "version": 2
   },
   "file_extension": ".py",
   "mimetype": "text/x-python",
   "name": "python",
   "nbconvert_exporter": "python",
   "pygments_lexer": "ipython2",
   "version": "2.7.6"
  }
 },
 "nbformat": 4,
 "nbformat_minor": 5
}

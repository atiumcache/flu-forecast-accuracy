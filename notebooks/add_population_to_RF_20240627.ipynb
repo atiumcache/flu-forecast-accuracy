{
 "cells": [
  {
   "metadata": {
    "ExecuteTime": {
     "end_time": "2024-07-01T19:32:18.115048Z",
     "start_time": "2024-07-01T19:32:18.088656Z"
    }
   },
   "cell_type": "code",
   "source": [
    "import pandas as pd\n",
    "\n",
    "forest_data = pd.read_csv('./datasets/forest_features_20240701.csv')\n",
    "forest_data.head()"
   ],
   "id": "5ab8aa44b0559875",
   "outputs": [
    {
     "data": {
      "text/plain": [
       "         date  1wk_WIS  1_week_roc  is_wis_above_avg  1st_deriv_stencil  \\\n",
       "0  2023-10-28    19.51    0.320000                 0           7.333333   \n",
       "1  2023-11-04     6.51    0.181818                 0           4.166667   \n",
       "2  2023-11-11    45.84    0.205128                 0          27.750000   \n",
       "3  2023-11-18    11.54    0.851064                 0          16.416667   \n",
       "4  2023-11-25    37.36   -0.034483                 0          25.750000   \n",
       "\n",
       "   week_of_year  moving_avg_WIS  lagged_1wk_WIS  loc_code  holiday_last_week  \n",
       "0            43       13.273333           13.51        18                  0  \n",
       "1            44       13.176667           19.51        18                  0  \n",
       "2            45       23.953333            6.51        18                  0  \n",
       "3            46       21.296667           45.84        18                  1  \n",
       "4            47       31.580000           11.54        18                  0  "
      ],
      "text/html": [
       "<div>\n",
       "<style scoped>\n",
       "    .dataframe tbody tr th:only-of-type {\n",
       "        vertical-align: middle;\n",
       "    }\n",
       "\n",
       "    .dataframe tbody tr th {\n",
       "        vertical-align: top;\n",
       "    }\n",
       "\n",
       "    .dataframe thead th {\n",
       "        text-align: right;\n",
       "    }\n",
       "</style>\n",
       "<table border=\"1\" class=\"dataframe\">\n",
       "  <thead>\n",
       "    <tr style=\"text-align: right;\">\n",
       "      <th></th>\n",
       "      <th>date</th>\n",
       "      <th>1wk_WIS</th>\n",
       "      <th>1_week_roc</th>\n",
       "      <th>is_wis_above_avg</th>\n",
       "      <th>1st_deriv_stencil</th>\n",
       "      <th>week_of_year</th>\n",
       "      <th>moving_avg_WIS</th>\n",
       "      <th>lagged_1wk_WIS</th>\n",
       "      <th>loc_code</th>\n",
       "      <th>holiday_last_week</th>\n",
       "    </tr>\n",
       "  </thead>\n",
       "  <tbody>\n",
       "    <tr>\n",
       "      <th>0</th>\n",
       "      <td>2023-10-28</td>\n",
       "      <td>19.51</td>\n",
       "      <td>0.320000</td>\n",
       "      <td>0</td>\n",
       "      <td>7.333333</td>\n",
       "      <td>43</td>\n",
       "      <td>13.273333</td>\n",
       "      <td>13.51</td>\n",
       "      <td>18</td>\n",
       "      <td>0</td>\n",
       "    </tr>\n",
       "    <tr>\n",
       "      <th>1</th>\n",
       "      <td>2023-11-04</td>\n",
       "      <td>6.51</td>\n",
       "      <td>0.181818</td>\n",
       "      <td>0</td>\n",
       "      <td>4.166667</td>\n",
       "      <td>44</td>\n",
       "      <td>13.176667</td>\n",
       "      <td>19.51</td>\n",
       "      <td>18</td>\n",
       "      <td>0</td>\n",
       "    </tr>\n",
       "    <tr>\n",
       "      <th>2</th>\n",
       "      <td>2023-11-11</td>\n",
       "      <td>45.84</td>\n",
       "      <td>0.205128</td>\n",
       "      <td>0</td>\n",
       "      <td>27.750000</td>\n",
       "      <td>45</td>\n",
       "      <td>23.953333</td>\n",
       "      <td>6.51</td>\n",
       "      <td>18</td>\n",
       "      <td>0</td>\n",
       "    </tr>\n",
       "    <tr>\n",
       "      <th>3</th>\n",
       "      <td>2023-11-18</td>\n",
       "      <td>11.54</td>\n",
       "      <td>0.851064</td>\n",
       "      <td>0</td>\n",
       "      <td>16.416667</td>\n",
       "      <td>46</td>\n",
       "      <td>21.296667</td>\n",
       "      <td>45.84</td>\n",
       "      <td>18</td>\n",
       "      <td>1</td>\n",
       "    </tr>\n",
       "    <tr>\n",
       "      <th>4</th>\n",
       "      <td>2023-11-25</td>\n",
       "      <td>37.36</td>\n",
       "      <td>-0.034483</td>\n",
       "      <td>0</td>\n",
       "      <td>25.750000</td>\n",
       "      <td>47</td>\n",
       "      <td>31.580000</td>\n",
       "      <td>11.54</td>\n",
       "      <td>18</td>\n",
       "      <td>0</td>\n",
       "    </tr>\n",
       "  </tbody>\n",
       "</table>\n",
       "</div>"
      ]
     },
     "execution_count": 10,
     "metadata": {},
     "output_type": "execute_result"
    }
   ],
   "execution_count": 10
  },
  {
   "metadata": {
    "ExecuteTime": {
     "end_time": "2024-07-01T19:32:20.826070Z",
     "start_time": "2024-07-01T19:32:20.807891Z"
    }
   },
   "cell_type": "code",
   "source": [
    "# Add population\n",
    "\n",
    "population_df = pd.read_csv('./datasets/state_populations.csv')\n",
    "state_pop_map = dict(zip(population_df['state_code'], population_df['population']))\n",
    "\n",
    "forest_data['population'] = forest_data['loc_code'].map(state_pop_map)\n",
    "forest_data.head()"
   ],
   "id": "36f6f2b8ad20e249",
   "outputs": [
    {
     "data": {
      "text/plain": [
       "         date  1wk_WIS  1_week_roc  is_wis_above_avg  1st_deriv_stencil  \\\n",
       "0  2023-10-28    19.51    0.320000                 0           7.333333   \n",
       "1  2023-11-04     6.51    0.181818                 0           4.166667   \n",
       "2  2023-11-11    45.84    0.205128                 0          27.750000   \n",
       "3  2023-11-18    11.54    0.851064                 0          16.416667   \n",
       "4  2023-11-25    37.36   -0.034483                 0          25.750000   \n",
       "\n",
       "   week_of_year  moving_avg_WIS  lagged_1wk_WIS  loc_code  holiday_last_week  \\\n",
       "0            43       13.273333           13.51        18                  0   \n",
       "1            44       13.176667           19.51        18                  0   \n",
       "2            45       23.953333            6.51        18                  0   \n",
       "3            46       21.296667           45.84        18                  1   \n",
       "4            47       31.580000           11.54        18                  0   \n",
       "\n",
       "   population  \n",
       "0     6785528  \n",
       "1     6785528  \n",
       "2     6785528  \n",
       "3     6785528  \n",
       "4     6785528  "
      ],
      "text/html": [
       "<div>\n",
       "<style scoped>\n",
       "    .dataframe tbody tr th:only-of-type {\n",
       "        vertical-align: middle;\n",
       "    }\n",
       "\n",
       "    .dataframe tbody tr th {\n",
       "        vertical-align: top;\n",
       "    }\n",
       "\n",
       "    .dataframe thead th {\n",
       "        text-align: right;\n",
       "    }\n",
       "</style>\n",
       "<table border=\"1\" class=\"dataframe\">\n",
       "  <thead>\n",
       "    <tr style=\"text-align: right;\">\n",
       "      <th></th>\n",
       "      <th>date</th>\n",
       "      <th>1wk_WIS</th>\n",
       "      <th>1_week_roc</th>\n",
       "      <th>is_wis_above_avg</th>\n",
       "      <th>1st_deriv_stencil</th>\n",
       "      <th>week_of_year</th>\n",
       "      <th>moving_avg_WIS</th>\n",
       "      <th>lagged_1wk_WIS</th>\n",
       "      <th>loc_code</th>\n",
       "      <th>holiday_last_week</th>\n",
       "      <th>population</th>\n",
       "    </tr>\n",
       "  </thead>\n",
       "  <tbody>\n",
       "    <tr>\n",
       "      <th>0</th>\n",
       "      <td>2023-10-28</td>\n",
       "      <td>19.51</td>\n",
       "      <td>0.320000</td>\n",
       "      <td>0</td>\n",
       "      <td>7.333333</td>\n",
       "      <td>43</td>\n",
       "      <td>13.273333</td>\n",
       "      <td>13.51</td>\n",
       "      <td>18</td>\n",
       "      <td>0</td>\n",
       "      <td>6785528</td>\n",
       "    </tr>\n",
       "    <tr>\n",
       "      <th>1</th>\n",
       "      <td>2023-11-04</td>\n",
       "      <td>6.51</td>\n",
       "      <td>0.181818</td>\n",
       "      <td>0</td>\n",
       "      <td>4.166667</td>\n",
       "      <td>44</td>\n",
       "      <td>13.176667</td>\n",
       "      <td>19.51</td>\n",
       "      <td>18</td>\n",
       "      <td>0</td>\n",
       "      <td>6785528</td>\n",
       "    </tr>\n",
       "    <tr>\n",
       "      <th>2</th>\n",
       "      <td>2023-11-11</td>\n",
       "      <td>45.84</td>\n",
       "      <td>0.205128</td>\n",
       "      <td>0</td>\n",
       "      <td>27.750000</td>\n",
       "      <td>45</td>\n",
       "      <td>23.953333</td>\n",
       "      <td>6.51</td>\n",
       "      <td>18</td>\n",
       "      <td>0</td>\n",
       "      <td>6785528</td>\n",
       "    </tr>\n",
       "    <tr>\n",
       "      <th>3</th>\n",
       "      <td>2023-11-18</td>\n",
       "      <td>11.54</td>\n",
       "      <td>0.851064</td>\n",
       "      <td>0</td>\n",
       "      <td>16.416667</td>\n",
       "      <td>46</td>\n",
       "      <td>21.296667</td>\n",
       "      <td>45.84</td>\n",
       "      <td>18</td>\n",
       "      <td>1</td>\n",
       "      <td>6785528</td>\n",
       "    </tr>\n",
       "    <tr>\n",
       "      <th>4</th>\n",
       "      <td>2023-11-25</td>\n",
       "      <td>37.36</td>\n",
       "      <td>-0.034483</td>\n",
       "      <td>0</td>\n",
       "      <td>25.750000</td>\n",
       "      <td>47</td>\n",
       "      <td>31.580000</td>\n",
       "      <td>11.54</td>\n",
       "      <td>18</td>\n",
       "      <td>0</td>\n",
       "      <td>6785528</td>\n",
       "    </tr>\n",
       "  </tbody>\n",
       "</table>\n",
       "</div>"
      ]
     },
     "execution_count": 11,
     "metadata": {},
     "output_type": "execute_result"
    }
   ],
   "execution_count": 11
  },
  {
   "metadata": {
    "ExecuteTime": {
     "end_time": "2024-07-01T19:32:26.335420Z",
     "start_time": "2024-07-01T19:32:26.306898Z"
    }
   },
   "cell_type": "code",
   "source": "forest_data.to_csv('./datasets/forest_features_20240701.csv', index=False)",
   "id": "ab4bafb431d00887",
   "outputs": [],
   "execution_count": 12
  },
  {
   "metadata": {
    "ExecuteTime": {
     "end_time": "2024-07-01T19:36:54.553869Z",
     "start_time": "2024-07-01T19:36:54.539643Z"
    }
   },
   "cell_type": "code",
   "source": [
    "\"\"\"Prepare the data.\"\"\"\n",
    "\n",
    "from sklearn.model_selection import train_test_split\n",
    "from sklearn.metrics import classification_report, roc_auc_score\n",
    "\n",
    "df = forest_data.copy()\n",
    "df.dropna(inplace=True)\n",
    "\n",
    "features = ['1_week_roc', \n",
    "            'population', \n",
    "            'week_of_year', \n",
    "            'moving_avg_WIS', \n",
    "            'lagged_1wk_WIS',\n",
    "            'holiday_last_week']\n",
    "X = df[features]\n",
    "y = df['is_wis_above_avg']\n",
    "\n",
    "# Train-test split\n",
    "X_train, X_test, y_train, y_test = train_test_split(X, y, test_size=0.2, random_state=42)"
   ],
   "id": "93d67fb91ae8c983",
   "outputs": [],
   "execution_count": 19
  },
  {
   "metadata": {
    "ExecuteTime": {
     "end_time": "2024-07-01T19:36:55.676233Z",
     "start_time": "2024-07-01T19:36:55.328318Z"
    }
   },
   "cell_type": "code",
   "source": [
    "\"\"\"Train and evaluate the RF model.\"\"\"\n",
    "\n",
    "from sklearn.ensemble import RandomForestClassifier\n",
    "\n",
    "# Initialize Random Forest model\n",
    "rf_model = RandomForestClassifier(random_state=42)\n",
    "\n",
    "# Train the model\n",
    "rf_model.fit(X_train, y_train)\n",
    "\n",
    "# Evaluate the model\n",
    "y_pred_rf = rf_model.predict(X_test)\n",
    "print(classification_report(y_test, y_pred_rf))"
   ],
   "id": "22f3bbf3f681694e",
   "outputs": [
    {
     "name": "stdout",
     "output_type": "stream",
     "text": [
      "              precision    recall  f1-score   support\n",
      "\n",
      "           0       0.85      0.92      0.88       155\n",
      "           1       0.77      0.64      0.70        69\n",
      "\n",
      "    accuracy                           0.83       224\n",
      "   macro avg       0.81      0.78      0.79       224\n",
      "weighted avg       0.83      0.83      0.83       224\n",
      "\n"
     ]
    }
   ],
   "execution_count": 20
  },
  {
   "metadata": {
    "ExecuteTime": {
     "end_time": "2024-07-01T19:34:32.497674Z",
     "start_time": "2024-07-01T19:34:32.300787Z"
    }
   },
   "cell_type": "code",
   "source": [
    "import pandas as pd\n",
    "import matplotlib.pyplot as plt\n",
    "\n",
    "# Feature Importances\n",
    "importances = rf_model.feature_importances_\n",
    "feature_names = X_train.columns\n",
    "\n",
    "# Plot Feature Importances\n",
    "plt.figure(figsize=(10, 6), dpi=100)\n",
    "plt.barh(feature_names, importances, color='skyblue')\n",
    "plt.xlabel('Importance')\n",
    "plt.ylabel('Features')\n",
    "plt.title('Feature Importance')\n",
    "plt.show()"
   ],
   "id": "329e4d5fef3bc772",
   "outputs": [
    {
     "data": {
      "text/plain": [
       "<Figure size 1000x600 with 1 Axes>"
      ],
      "image/png": "[encoded data removed]"
     },
     "metadata": {},
     "output_type": "display_data"
    }
   ],
   "execution_count": 16
  },
  {
   "metadata": {
    "ExecuteTime": {
     "end_time": "2024-07-02T19:33:24.683765Z",
     "start_time": "2024-07-02T19:33:23.650905Z"
    }
   },
   "cell_type": "code",
   "source": [
    "\"\"\"Recursive Feature Elimination -- 5 Features\"\"\"\n",
    "\n",
    "from sklearn.feature_selection import RFE\n",
    "from sklearn.linear_model import LogisticRegression\n",
    "\n",
    "# Initialize logistic regression model for RFE\n",
    "model = LogisticRegression()\n",
    "\n",
    "# Initialize RFE with the logistic regression model\n",
    "rfe = RFE(estimator=model, n_features_to_select=5)\n",
    "\n",
    "# Fit RFE\n",
    "rfe = rfe.fit(X_train, y_train)\n",
    "\n",
    "# Get the selected features\n",
    "selected_features = X_train.columns[rfe.support_]\n",
    "print(\"Selected Features:\", selected_features)\n",
    "\n",
    "# Reduce the dataset to selected features\n",
    "X_train_rfe = X_train[selected_features]\n",
    "X_test_rfe = X_test[selected_features]\n",
    "\n",
    "# Train Random Forest model with reduced features\n",
    "rf_model_rfe = RandomForestClassifier(random_state=42)\n",
    "rf_model_rfe.fit(X_train_rfe, y_train)\n",
    "\n",
    "# Evaluate the reduced model\n",
    "y_pred_rfe = rf_model_rfe.predict(X_test_rfe)\n",
    "print(classification_report(y_test, y_pred_rfe))"
   ],
   "id": "bde4c23deb6bf53",
   "outputs": [
    {
     "ename": "NameError",
     "evalue": "name 'X_train' is not defined",
     "output_type": "error",
     "traceback": [
      "\u001B[0;31m---------------------------------------------------------------------------\u001B[0m",
      "\u001B[0;31mNameError\u001B[0m                                 Traceback (most recent call last)",
      "Cell \u001B[0;32mIn[1], line 13\u001B[0m\n\u001B[1;32m     10\u001B[0m rfe \u001B[38;5;241m=\u001B[39m RFE(estimator\u001B[38;5;241m=\u001B[39mmodel, n_features_to_select\u001B[38;5;241m=\u001B[39m\u001B[38;5;241m5\u001B[39m)\n\u001B[1;32m     12\u001B[0m \u001B[38;5;66;03m# Fit RFE\u001B[39;00m\n\u001B[0;32m---> 13\u001B[0m rfe \u001B[38;5;241m=\u001B[39m rfe\u001B[38;5;241m.\u001B[39mfit(\u001B[43mX_train\u001B[49m, y_train)\n\u001B[1;32m     15\u001B[0m \u001B[38;5;66;03m# Get the selected features\u001B[39;00m\n\u001B[1;32m     16\u001B[0m selected_features \u001B[38;5;241m=\u001B[39m X_train\u001B[38;5;241m.\u001B[39mcolumns[rfe\u001B[38;5;241m.\u001B[39msupport_]\n",
      "\u001B[0;31mNameError\u001B[0m: name 'X_train' is not defined"
     ]
    }
   ],
   "execution_count": 1
  },
  {
   "metadata": {},
   "cell_type": "markdown",
   "source": "Results are better without population. ",
   "id": "e731f201c1f2e606"
  },
  {
   "metadata": {},
   "cell_type": "code",
   "outputs": [],
   "execution_count": null,
   "source": "",
   "id": "a336335f7ed2b6d3"
  }
 ],
 "metadata": {
  "kernelspec": {
   "display_name": "Python 3",
   "language": "python",
   "name": "python3"
  },
  "language_info": {
   "codemirror_mode": {
    "name": "ipython",
    "version": 2
   },
   "file_extension": ".py",
   "mimetype": "text/x-python",
   "name": "python",
   "nbconvert_exporter": "python",
   "pygments_lexer": "ipython2",
   "version": "2.7.6"
  }
 },
 "nbformat": 4,
 "nbformat_minor": 5
}

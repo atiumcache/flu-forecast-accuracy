{
 "cells": [
  {
   "metadata": {},
   "cell_type": "markdown",
   "source": [
    "## Generating WIS scores\n",
    "#### Andrew Attilio\n",
    "#### 2024-11-24\n",
    "The logic for generating WIS scores is currently in `/src/main.py`. \n",
    "\n",
    "I have been running the script from the command line.\n",
    "But, in Jupyter, operation would look like this:"
   ],
   "id": "781ff55e6bd69978"
  },
  {
   "cell_type": "code",
   "id": "initial_id",
   "metadata": {
    "collapsed": true,
    "ExecuteTime": {
     "end_time": "2024-11-24T21:13:58.413671Z",
     "start_time": "2024-11-24T21:13:57.529401Z"
    }
   },
   "source": [
    "from src.main import main as generate_wis_scores\n",
    "\n",
    "# NOTE: The input and output folders are hardcoded in the main.py script.\n",
    "# Obviously this is not ideal. Should be changed. \n",
    "generate_wis_scores()"
   ],
   "outputs": [
    {
     "name": "stdout",
     "output_type": "stream",
     "text": [
      "Running forecast accuracy on location code 04\n",
      "No data found for date: 2024-05-04 00:00:00\n",
      "No data found for date: 2024-05-03 00:00:00\n",
      "No data found for date: 2024-05-02 00:00:00\n",
      "No data found for date: 2024-05-01 00:00:00\n",
      "No data found for date: 2024-04-30 00:00:00\n",
      "No data found for date: 2024-04-29 00:00:00\n",
      "No data found for date: 2024-04-28 00:00:00\n",
      "No data found for date: 2024-05-04 00:00:00\n",
      "No data found for date: 2024-05-03 00:00:00\n",
      "No data found for date: 2024-05-02 00:00:00\n",
      "No data found for date: 2024-05-01 00:00:00\n",
      "No data found for date: 2024-04-30 00:00:00\n",
      "No data found for date: 2024-04-29 00:00:00\n",
      "No data found for date: 2024-04-28 00:00:00\n",
      "No data found for date: 2024-05-04 00:00:00\n",
      "No data found for date: 2024-05-03 00:00:00\n",
      "No data found for date: 2024-05-02 00:00:00\n",
      "No data found for date: 2024-05-01 00:00:00\n",
      "No data found for date: 2024-04-30 00:00:00\n",
      "No data found for date: 2024-04-29 00:00:00\n",
      "No data found for date: 2024-04-28 00:00:00\n",
      "No data found for date: 2024-05-04 00:00:00\n",
      "No data found for date: 2024-05-03 00:00:00\n",
      "No data found for date: 2024-05-02 00:00:00\n",
      "No data found for date: 2024-05-01 00:00:00\n",
      "No data found for date: 2024-04-30 00:00:00\n",
      "No data found for date: 2024-04-29 00:00:00\n",
      "No data found for date: 2024-04-28 00:00:00\n",
      "Completed all locations.\n"
     ]
    }
   ],
   "execution_count": 1
  },
  {
   "metadata": {},
   "cell_type": "markdown",
   "source": [
    "### What input format does the script expect? \n",
    "Your CSV files should be formatted as follows:\n",
    "\n",
    "```{csv}\n",
    "reference_date,horizon,target_end_date,location,output_type,output_type_id,value\n",
    "2023-10-21,1,2023-10-28,01,quantile,0.01,16\n",
    "2023-10-21,1,2023-10-28,01,quantile,0.025,21\n",
    "2023-10-21,1,2023-10-28,01,quantile,0.05,25\n",
    "2023-10-21,1,2023-10-28,01,quantile,0.1,32\n",
    "2023-10-21,1,2023-10-28,01,quantile,0.15,36\n",
    "2023-10-21,1,2023-10-28,01,quantile,0.2,40\n",
    "2023-10-21,1,2023-10-28,01,quantile,0.25,43\n",
    "2023-10-21,1,2023-10-28,01,quantile,0.3,46\n",
    "2023-10-21,1,2023-10-28,01,quantile,0.35,49\n",
    "2023-10-21,1,2023-10-28,01,quantile,0.4,52\n",
    "```\n",
    "\n",
    "Or, if FluSight has changed the format that they expect for the 2024-2025 season,\n",
    "you could alter the script to work with the new format. "
   ],
   "id": "e1868149d5d418bc"
  }
 ],
 "metadata": {
  "kernelspec": {
   "display_name": "Python 3",
   "language": "python",
   "name": "python3"
  },
  "language_info": {
   "codemirror_mode": {
    "name": "ipython",
    "version": 2
   },
   "file_extension": ".py",
   "mimetype": "text/x-python",
   "name": "python",
   "nbconvert_exporter": "python",
   "pygments_lexer": "ipython2",
   "version": "2.7.6"
  }
 },
 "nbformat": 4,
 "nbformat_minor": 5
}
